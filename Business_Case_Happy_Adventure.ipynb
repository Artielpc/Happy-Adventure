{
 "cells": [
  {
   "cell_type": "markdown",
   "id": "5cfdf1bf",
   "metadata": {},
   "source": [
    "<br><p style=\"text-align: center; font-size:50px; color:rgb(255,0,51)\">Happy Adventure</p><br>\n",
    "\n",
    "## Preguntas a responder\n",
    "Respondo a las preguntas del business case en esta sección y más adelante desarrollo el modelo.\n",
    "\n",
    "### 1. ¿Qué modelo o modelos serían adecuados para resolver este objetivo?\n",
    "\n",
    "En primer lugar **regresión logística** debido a que la variable objetivo es binaria y por la facilidad de interpretar los resultados y determinar las variables relevantes.\n",
    "\n",
    "Para intentar mejorar la precisión se puede hacer un **random forest, xgboost, una red neuronal, etc**. en el caso de la red neuronal seguramente no mejore la precisión significativamente para compensar la perdida de interpretabilidad.\n",
    "\n",
    "\n",
    "### 2. ¿Qué proceso deberíamos seguir para poder desarrollar el modelo que necesitamos?\n",
    "#### ¿Qué debemos tener en cuenta en cada fase del proceso?\n",
    "\n",
    "*1. Definición de un objetivo*\n",
    "\n",
    "Hay que tener claro lo que queremos hacer, en este caso predecir la intención de un cliente de volver al parque de atracciones.\n",
    "\n",
    "*2. Validación de los datos*\n",
    "\n",
    "Revisar duplicados, valores atípicos, correlaciones, en caso de haber datos oficiales para comparar comprobar que los datos que nos han pasado cuadran con los datos oficiales\n",
    "\n",
    "*3. Hacer un análisis univariable.*\n",
    "\n",
    "Necesario para ver el impacto que tiene cada variable individualmente en la variable objetivo y hacernos una idea inicial de cada variable o encontrar posibles problemas.\n",
    "\n",
    "*4. Preparación de la base de datos para modelización.*\n",
    "\n",
    "Juntar toda la información disponible, crear agrupaciones, crear nuevas variables a partir de otras, imputar valores atípicos.\n",
    "\n",
    "*5. Entrenamiento de los modelos.*\n",
    "\n",
    "Separar los datos en train y test.\n",
    "Sobre la base de datos de train probar distintos modelos, seleccionar las variables que entran o ajustar sus parámetros\n",
    "\n",
    "*6. Validación del modelo.*\n",
    "\n",
    "Sobre el test ver la capacidad predictiva del modelo y que tan bien se ajustan las predicciones a la realidad.\n",
    "Seleccionar el modelo definitivo.\n",
    "\n",
    "*7. Implementación del modelo.*\n",
    "\n",
    "Llevar el modelo a producción.\n",
    "\n",
    "*La creación del modelo es un proceso iterativo, en cualquier momento se puede volver atrás para hacer cambios.*\n",
    "\n",
    "### 3. Desarrolla al menos uno de los modelos que consideres adecuados para este caso.\n",
    "#### ¿Qué problemas has encontrado en cada fase del proceso?\n",
    "#### ¿Qué decisiones has tomado para evitar/solucionar cada uno de los problemas encontrados? Justifica tu respuesta.\n",
    "\n",
    "*Validación de los datos:*\n",
    "- Duplicados en la tabla de clientes y puntos de compra.\n",
    "\n",
    "    Se ha comprobado que las observaciones duplicadas lo son en todas las variables y por tanto se han eliminado.<br><br>\n",
    "  \n",
    "- La edad de los clientes con valores perdidos.\n",
    "\n",
    "    En este caso imputamos los valores perdidos puesto que representaban el 20% de la BBDD y no tenemos suficientes observaciones como para permitirnos eliminarlas directamente. Además estos valores nulos pueden estar asociados a una característica de un cliente. Otros clientes tienen la edad con decimales pero hemos supuesto que estan bien (calculado a partir del mes y día de nacimiento) y no es un error de entrada de datos.<br><br>\n",
    "    \n",
    "- Valores de NA en punto de compra\n",
    "\n",
    "    Decidimos dejarlos por ser solamente 2 observaciones que tienen el resto de valores normales.\n",
    "    Esto implica que hay una categoría extra para cuando el punto de compra no este informado.<br><br>\n",
    "    \n",
    "- Correlación completa del producto B y C.\n",
    "\n",
    "    En este caso descartamos directamente el producto C para los modelos.\n",
    "\n",
    "\n",
    "*Análisis univariable:*\n",
    "\n",
    "- Me parece curioso que a pesar de que el 65% de los clientes son hombres, solamente el 19% tiene intención de volver, mientras que el 74,2% de las mujeres tienen intención de volver.<br><br>\n",
    "\n",
    "- Hay clientes muy pequeños contestando la encuesta (<10 años) y tiene sentido en cuanto a que casi todos van acompañados de familiares o amigos, sin embargo, puede ser un problema mezclar las opiniones de adultos con los niños. (Un niño puede tener intención de volver pero el hecho de volver depende del padre). Hay diferencias significativa entre hombres mayores y menores de 18 años (40% vs 20% de intención de volver aproximadamente).\n",
    "\n",
    "*Entrenamiento:*\n",
    "\n",
    "-  Es complicado determinar los mejores parámetros en el random forest por ser una base de datos pequeña y la aleatoriedad del algoritmo del random forest.\n",
    "\n",
    "### 4. Desde Happy Adventure no estamos seguros la información de la que disponemos es la más adecuada para conseguir nuestros objetivos.\n",
    "#### ¿Es adecuada la información de la que disponemos? ¿Deberíamos cambiar o añadir algún dato? – Justifica tu respuesta\n",
    "#### Con los cambios que has planteados, ¿Qué deberíamos tener en cuenta en los modelos? ¿Deberíamos cambiar de modelo?\n",
    "\n",
    "Si bien los modelos obtenidos son bastante buenos, hay más variables que se podrían recoger de cada cliente como su ubicación, ingresos, precio que pago por la entrada o descuentos.\n",
    "\n",
    "Por otro lado se habla de que en los últimos años los clientes no repiten su visita, sin embargo, no tenemos información temporal de los clientes, p. ej. de cuando han visitado el parque o cuántas veces lo han hecho en el último año. \n",
    "\n",
    "En este caso se podría plantear hacer un modelo de serie temporal o enfocar el modelo de forma distinta generando una nueva variable objetivo a partir de información temporal y no de la encuesta.\n",
    "El objetivo cambiaría a estimar la probabilidad real de que un cliente vuelva y no su intención.\n",
    "\n",
    "p. ej. Si tenemos información temporal de 2018 a 2021 con información de todas las visitas de los clientes podemos crear la variable 'vuelve_proximo_anio' (para los clientes de 2018 se asigna 1 si el cliente ha visitado el parque en 2019 y 0 en caso contrario, y así para todos los años)\n",
    "\n",
    "\n",
    "### 5. Imagina que la empresa precisa productivizar este algoritmo en Real Time para obtener los resultados en tiempo real; ¿Cómo lo harías y cuáles pasos llevarías a cabo?\n",
    "\n",
    "Mejor os lo enseño: **www.test_artiel.com**\n",
    "<br><br>"
   ]
  },
  {
   "cell_type": "markdown",
   "id": "c6f55893",
   "metadata": {},
   "source": [
    "# Desarrollo del modelo"
   ]
  },
  {
   "cell_type": "code",
   "execution_count": 697,
   "id": "9a54ca47",
   "metadata": {},
   "outputs": [],
   "source": [
    "# Importación de paquetes\n",
    "import os\n",
    "import pandas as pd\n",
    "import numpy as np\n",
    "import seaborn as sn\n",
    "import random\n",
    "from sklearn.model_selection import train_test_split, RandomizedSearchCV\n",
    "from sklearn.metrics import confusion_matrix, roc_curve, auc, roc_auc_score, accuracy_score\n",
    "from sklearn.ensemble import RandomForestRegressor, RandomForestClassifier\n",
    "import statsmodels.api as sm \n",
    "import matplotlib.pyplot as plt"
   ]
  },
  {
   "cell_type": "code",
   "execution_count": 698,
   "id": "0161e9b0",
   "metadata": {},
   "outputs": [],
   "source": [
    "# Cambiamos nuestro directorio de trabajo\n",
    "os.chdir('D:\\Clientes\\Artiel\\99. Artiel\\Business Case_HappyAdventure')"
   ]
  },
  {
   "cell_type": "code",
   "execution_count": 699,
   "id": "0de395df",
   "metadata": {},
   "outputs": [],
   "source": [
    "# Lectura de datos\n",
    "clientes = pd.read_excel('Detalle_Clientes.xlsx')\n",
    "consumo = pd.read_excel('Consumo_Parque.xlsx')\n",
    "encuestas = pd.read_excel('Encuestas_parque.xlsx')\n",
    "punto_compra = pd.read_excel('Punto_Compra.xlsx')"
   ]
  },
  {
   "cell_type": "markdown",
   "id": "1816ec04",
   "metadata": {},
   "source": [
    "## Validación de datos\n",
    "### Tabla de CLIENTES"
   ]
  },
  {
   "cell_type": "code",
   "execution_count": 700,
   "id": "0ee86c8d",
   "metadata": {},
   "outputs": [
    {
     "name": "stdout",
     "output_type": "stream",
     "text": [
      "   ClientId                                             Nombre    Sexo  Edad\n",
      "0         1                            Braund, Mr. Owen Harris    male  22.0\n",
      "1         2  Cumings, Mrs. John Bradley (Florence Briggs Th...  female  38.0\n",
      "2         3                             Heikkinen, Miss. Laina  female  26.0\n",
      "3         4       Futrelle, Mrs. Jacques Heath (Lily May Peel)  female  35.0\n",
      "4         5                           Allen, Mr. William Henry    male  35.0 \n",
      "\n",
      "Total observaciones: 987\n",
      "ID's de cliente únicos: 891\n"
     ]
    }
   ],
   "source": [
    "print(clientes.head(), \"\\n\")\n",
    "\n",
    "# Comprobamos duplicados\n",
    "print(\"Total observaciones:\",clientes['ClientId'].shape[0])\n",
    "print(\"ID's de cliente únicos:\",clientes['ClientId'].unique().shape[0])\n"
   ]
  },
  {
   "cell_type": "markdown",
   "id": "29518fd2",
   "metadata": {},
   "source": [
    "Tenemos unos 100 duplicados de ID de cliente en esta tabla."
   ]
  },
  {
   "cell_type": "code",
   "execution_count": 701,
   "id": "62cfc455",
   "metadata": {},
   "outputs": [
    {
     "name": "stdout",
     "output_type": "stream",
     "text": [
      "Dimensión de tabla clientes:  (891, 4)\n"
     ]
    }
   ],
   "source": [
    "# Nos quitamos las observaciones duplicadas en todas las variables\n",
    "clientes = clientes.loc[~clientes.duplicated(), ]\n",
    "print(\"Dimensión de tabla clientes: \", clientes.shape)"
   ]
  },
  {
   "cell_type": "markdown",
   "id": "64142165",
   "metadata": {},
   "source": [
    "Al quitarnos los duplicados de todas las variables nos quedamos con las mismas observaciones que el número de ID's únicos, con lo cual podemos quitarnos los duplicados tranquilamente ya que nos da igual con que observación de las duplicadas nos quedamos."
   ]
  },
  {
   "cell_type": "code",
   "execution_count": 702,
   "id": "8e0a301b",
   "metadata": {},
   "outputs": [
    {
     "name": "stdout",
     "output_type": "stream",
     "text": [
      "Nombres únicos: 891\n",
      "No hay ningún nombre duplicado\n"
     ]
    }
   ],
   "source": [
    "# Por si acaso, también compruebo si hay algun cliente con el mismo nombre\n",
    "print(\"Nombres únicos:\", clientes[\"Nombre\"].unique().shape[0])\n",
    "print(\"No hay ningún nombre duplicado\")"
   ]
  },
  {
   "cell_type": "code",
   "execution_count": 703,
   "id": "5eda097d",
   "metadata": {},
   "outputs": [
    {
     "data": {
      "text/plain": [
       "male      577\n",
       "female    314\n",
       "Name: Sexo, dtype: int64"
      ]
     },
     "execution_count": 703,
     "metadata": {},
     "output_type": "execute_result"
    }
   ],
   "source": [
    "# Distribución del sexo.\n",
    "clientes['Sexo'].value_counts()"
   ]
  },
  {
   "cell_type": "markdown",
   "id": "27745017",
   "metadata": {},
   "source": [
    "El 65% de los clientes son hombres.\n",
    "Supondremos que es debido al perfil de clientes del parque y no a que se este mal informando el campo."
   ]
  },
  {
   "cell_type": "code",
   "execution_count": 704,
   "id": "c0ba8b68",
   "metadata": {},
   "outputs": [
    {
     "data": {
      "text/plain": [
       "<AxesSubplot:>"
      ]
     },
     "execution_count": 704,
     "metadata": {},
     "output_type": "execute_result"
    },
    {
     "data": {
      "image/png": "[encoded data removed]",
      "text/plain": [
       "<Figure size 432x288 with 1 Axes>"
      ]
     },
     "metadata": {
      "needs_background": "light"
     },
     "output_type": "display_data"
    }
   ],
   "source": [
    "# Histograma de edad\n",
    "clientes[\"Edad\"].hist()"
   ]
  },
  {
   "cell_type": "markdown",
   "id": "61e02a6e",
   "metadata": {},
   "source": [
    "Un 20% de los clientes no tiene la edad informada.<br>\n",
    "Algunas edades tienen decimales pero puede deberse a que hayan dado información de mes y día y se haya hecho un cálculo y no a un error de entrada de datos. Habría que ver a que se debe esto."
   ]
  },
  {
   "cell_type": "code",
   "execution_count": 705,
   "id": "6d43a5f5",
   "metadata": {},
   "outputs": [
    {
     "data": {
      "text/html": [
       "<div>\n",
       "<style scoped>\n",
       "    .dataframe tbody tr th:only-of-type {\n",
       "        vertical-align: middle;\n",
       "    }\n",
       "\n",
       "    .dataframe tbody tr th {\n",
       "        vertical-align: top;\n",
       "    }\n",
       "\n",
       "    .dataframe thead tr th {\n",
       "        text-align: left;\n",
       "    }\n",
       "\n",
       "    .dataframe thead tr:last-of-type th {\n",
       "        text-align: right;\n",
       "    }\n",
       "</style>\n",
       "<table border=\"1\" class=\"dataframe\">\n",
       "  <thead>\n",
       "    <tr>\n",
       "      <th></th>\n",
       "      <th>Edad</th>\n",
       "    </tr>\n",
       "    <tr>\n",
       "      <th></th>\n",
       "      <th>mean</th>\n",
       "    </tr>\n",
       "    <tr>\n",
       "      <th>Sexo</th>\n",
       "      <th></th>\n",
       "    </tr>\n",
       "  </thead>\n",
       "  <tbody>\n",
       "    <tr>\n",
       "      <th>female</th>\n",
       "      <td>28.1</td>\n",
       "    </tr>\n",
       "    <tr>\n",
       "      <th>male</th>\n",
       "      <td>30.8</td>\n",
       "    </tr>\n",
       "  </tbody>\n",
       "</table>\n",
       "</div>"
      ],
      "text/plain": [
       "        Edad\n",
       "        mean\n",
       "Sexo        \n",
       "female  28.1\n",
       "male    30.8"
      ]
     },
     "execution_count": 705,
     "metadata": {},
     "output_type": "execute_result"
    }
   ],
   "source": [
    "clientes.groupby('Sexo').agg({'Edad' : ['mean']}).round(1)"
   ]
  },
  {
   "cell_type": "markdown",
   "id": "965488a2",
   "metadata": {},
   "source": [
    "La edad media de las mujeres es de 28 años y de los hombres 31 años.<br>\n",
    "\n",
    "Quizás sería relevante diferenciar entre tipo de clientes por edad, no se puede comparar la respuesta de un niño de 5 años con la de alguién de 30.\n",
    "\n",
    "### Tabla de CONSUMO"
   ]
  },
  {
   "cell_type": "code",
   "execution_count": 706,
   "id": "5b51facd",
   "metadata": {},
   "outputs": [
    {
     "name": "stdout",
     "output_type": "stream",
     "text": [
      "   ClientId  Producto_A  Producto_B  Producto_C\n",
      "0         1    0.824350    1.983631    4.442019\n",
      "1         2   44.359555    8.311497   18.612248\n",
      "2         3    4.828502    0.955905    2.140593\n",
      "3         4   33.101448    6.173654   13.824897\n",
      "4         5    6.930369    0.345636    0.773995 \n",
      "\n",
      "Total observaciones: 891\n",
      "ID's de cliente únicos: 891\n"
     ]
    }
   ],
   "source": [
    "print(consumo.head(), \"\\n\")\n",
    "\n",
    "# Comprobamos duplicados\n",
    "print(\"Total observaciones:\",consumo['ClientId'].shape[0])\n",
    "print(\"ID's de cliente únicos:\",consumo['ClientId'].unique().shape[0])"
   ]
  },
  {
   "cell_type": "code",
   "execution_count": 707,
   "id": "7823dfd9",
   "metadata": {},
   "outputs": [
    {
     "data": {
      "text/plain": [
       "<AxesSubplot:>"
      ]
     },
     "execution_count": 707,
     "metadata": {},
     "output_type": "execute_result"
    },
    {
     "data": {
      "image/png": "[encoded data removed]",
      "text/plain": [
       "<Figure size 432x288 with 1 Axes>"
      ]
     },
     "metadata": {
      "needs_background": "light"
     },
     "output_type": "display_data"
    }
   ],
   "source": [
    "consumo['Producto_A'].hist()"
   ]
  },
  {
   "cell_type": "code",
   "execution_count": 708,
   "id": "7de37a25",
   "metadata": {},
   "outputs": [
    {
     "data": {
      "text/plain": [
       "<AxesSubplot:>"
      ]
     },
     "execution_count": 708,
     "metadata": {},
     "output_type": "execute_result"
    },
    {
     "data": {
      "image/png": "[encoded data removed]",
      "text/plain": [
       "<Figure size 432x288 with 1 Axes>"
      ]
     },
     "metadata": {
      "needs_background": "light"
     },
     "output_type": "display_data"
    }
   ],
   "source": [
    "consumo['Producto_B'].hist()"
   ]
  },
  {
   "cell_type": "markdown",
   "id": "4f608803",
   "metadata": {},
   "source": [
    "Podemos ver con los histogramas de consumo de productos que siguen una distribución exponencial, puede ser útil una transformación logarítmica para el modelo de regresión logística. No muestro el histograma del Producto_C puesto que es redundante como se verá más adelante en las correlaciones."
   ]
  },
  {
   "cell_type": "code",
   "execution_count": 709,
   "id": "984d32ce",
   "metadata": {},
   "outputs": [
    {
     "data": {
      "text/html": [
       "<div>\n",
       "<style scoped>\n",
       "    .dataframe tbody tr th:only-of-type {\n",
       "        vertical-align: middle;\n",
       "    }\n",
       "\n",
       "    .dataframe tbody tr th {\n",
       "        vertical-align: top;\n",
       "    }\n",
       "\n",
       "    .dataframe thead th {\n",
       "        text-align: right;\n",
       "    }\n",
       "</style>\n",
       "<table border=\"1\" class=\"dataframe\">\n",
       "  <thead>\n",
       "    <tr style=\"text-align: right;\">\n",
       "      <th></th>\n",
       "      <th>Producto_A</th>\n",
       "      <th>Producto_B</th>\n",
       "      <th>Producto_C</th>\n",
       "    </tr>\n",
       "  </thead>\n",
       "  <tbody>\n",
       "    <tr>\n",
       "      <th>mean</th>\n",
       "      <td>16.1</td>\n",
       "      <td>5.0</td>\n",
       "      <td>11.2</td>\n",
       "    </tr>\n",
       "  </tbody>\n",
       "</table>\n",
       "</div>"
      ],
      "text/plain": [
       "      Producto_A  Producto_B  Producto_C\n",
       "mean        16.1         5.0        11.2"
      ]
     },
     "execution_count": 709,
     "metadata": {},
     "output_type": "execute_result"
    }
   ],
   "source": [
    "# Vemos la media del consumo por producto\n",
    "consumo.agg({'Producto_A' : ['mean'],'Producto_B' : ['mean'], 'Producto_C' : ['mean']}).round(1)"
   ]
  },
  {
   "cell_type": "markdown",
   "id": "c37973c4",
   "metadata": {},
   "source": [
    "La gente ha consumido más del producto A, luego C y por último B.\n",
    "\n",
    "Hago los histogramas de las variables de producto con la transformación logarítmica y vemos que ya tienen una pinta más normal:"
   ]
  },
  {
   "cell_type": "code",
   "execution_count": 710,
   "id": "a0865554",
   "metadata": {},
   "outputs": [
    {
     "data": {
      "text/plain": [
       "<AxesSubplot:>"
      ]
     },
     "execution_count": 710,
     "metadata": {},
     "output_type": "execute_result"
    },
    {
     "data": {
      "image/png": "[encoded data removed]",
      "text/plain": [
       "<Figure size 432x288 with 1 Axes>"
      ]
     },
     "metadata": {
      "needs_background": "light"
     },
     "output_type": "display_data"
    }
   ],
   "source": [
    "np.log(consumo['Producto_A']+1).hist() # Le sumo 1 a la variable para evitar problemas con los 0"
   ]
  },
  {
   "cell_type": "code",
   "execution_count": 711,
   "id": "d4d14380",
   "metadata": {},
   "outputs": [
    {
     "data": {
      "text/plain": [
       "<AxesSubplot:>"
      ]
     },
     "execution_count": 711,
     "metadata": {},
     "output_type": "execute_result"
    },
    {
     "data": {
      "image/png": "[encoded data removed]",
      "text/plain": [
       "<Figure size 432x288 with 1 Axes>"
      ]
     },
     "metadata": {
      "needs_background": "light"
     },
     "output_type": "display_data"
    }
   ],
   "source": [
    "np.log(consumo['Producto_B']+1).hist() # Le sumo 1 a la variable para evitar problemas con los 0"
   ]
  },
  {
   "cell_type": "markdown",
   "id": "e5674a81",
   "metadata": {},
   "source": [
    "## Tabla de ENCUESTAS"
   ]
  },
  {
   "cell_type": "code",
   "execution_count": 712,
   "id": "80951897",
   "metadata": {},
   "outputs": [
    {
     "name": "stdout",
     "output_type": "stream",
     "text": [
      "   Unnamed: 0  ClientId  Intencion_volver  Segmento_cliente  \\\n",
      "0           0         1                 0                 3   \n",
      "1           1         2                 1                 1   \n",
      "2           2         3                 1                 3   \n",
      "3           3         4                 1                 1   \n",
      "4           4         5                 0                 3   \n",
      "\n",
      "   Acompaniado_amigos  Acompaniado_familia  \n",
      "0                   1                    0  \n",
      "1                   1                    0  \n",
      "2                   0                    0  \n",
      "3                   1                    0  \n",
      "4                   0                    0   \n",
      "\n",
      "Total observaciones: 891\n",
      "ID's de cliente únicos: 891\n"
     ]
    }
   ],
   "source": [
    "print(encuestas.head(), \"\\n\")\n",
    "\n",
    "# Comprobamos duplicados\n",
    "print(\"Total observaciones:\",encuestas['ClientId'].shape[0])\n",
    "print(\"ID's de cliente únicos:\",encuestas['ClientId'].unique().shape[0])"
   ]
  },
  {
   "cell_type": "code",
   "execution_count": 713,
   "id": "4800f5d2",
   "metadata": {},
   "outputs": [
    {
     "data": {
      "text/html": [
       "<div>\n",
       "<style scoped>\n",
       "    .dataframe tbody tr th:only-of-type {\n",
       "        vertical-align: middle;\n",
       "    }\n",
       "\n",
       "    .dataframe tbody tr th {\n",
       "        vertical-align: top;\n",
       "    }\n",
       "\n",
       "    .dataframe thead th {\n",
       "        text-align: right;\n",
       "    }\n",
       "</style>\n",
       "<table border=\"1\" class=\"dataframe\">\n",
       "  <thead>\n",
       "    <tr style=\"text-align: right;\">\n",
       "      <th></th>\n",
       "      <th>ClientId</th>\n",
       "      <th>Intencion_volver</th>\n",
       "      <th>Segmento_cliente</th>\n",
       "      <th>Acompaniado_amigos</th>\n",
       "      <th>Acompaniado_familia</th>\n",
       "    </tr>\n",
       "  </thead>\n",
       "  <tbody>\n",
       "    <tr>\n",
       "      <th>0</th>\n",
       "      <td>1</td>\n",
       "      <td>0</td>\n",
       "      <td>3</td>\n",
       "      <td>1</td>\n",
       "      <td>0</td>\n",
       "    </tr>\n",
       "    <tr>\n",
       "      <th>1</th>\n",
       "      <td>2</td>\n",
       "      <td>1</td>\n",
       "      <td>1</td>\n",
       "      <td>1</td>\n",
       "      <td>0</td>\n",
       "    </tr>\n",
       "    <tr>\n",
       "      <th>2</th>\n",
       "      <td>3</td>\n",
       "      <td>1</td>\n",
       "      <td>3</td>\n",
       "      <td>0</td>\n",
       "      <td>0</td>\n",
       "    </tr>\n",
       "    <tr>\n",
       "      <th>3</th>\n",
       "      <td>4</td>\n",
       "      <td>1</td>\n",
       "      <td>1</td>\n",
       "      <td>1</td>\n",
       "      <td>0</td>\n",
       "    </tr>\n",
       "    <tr>\n",
       "      <th>4</th>\n",
       "      <td>5</td>\n",
       "      <td>0</td>\n",
       "      <td>3</td>\n",
       "      <td>0</td>\n",
       "      <td>0</td>\n",
       "    </tr>\n",
       "  </tbody>\n",
       "</table>\n",
       "</div>"
      ],
      "text/plain": [
       "   ClientId  Intencion_volver  Segmento_cliente  Acompaniado_amigos  \\\n",
       "0         1                 0                 3                   1   \n",
       "1         2                 1                 1                   1   \n",
       "2         3                 1                 3                   0   \n",
       "3         4                 1                 1                   1   \n",
       "4         5                 0                 3                   0   \n",
       "\n",
       "   Acompaniado_familia  \n",
       "0                    0  \n",
       "1                    0  \n",
       "2                    0  \n",
       "3                    0  \n",
       "4                    0  "
      ]
     },
     "execution_count": 713,
     "metadata": {},
     "output_type": "execute_result"
    }
   ],
   "source": [
    "# Me quito la variable Unnamed que tiene pinta de ser el index del dataframe que se quedo guardado\n",
    "del encuestas['Unnamed: 0']\n",
    "encuestas.head()"
   ]
  },
  {
   "cell_type": "code",
   "execution_count": 714,
   "id": "247dc4c1",
   "metadata": {},
   "outputs": [
    {
     "data": {
      "text/html": [
       "<div>\n",
       "<style scoped>\n",
       "    .dataframe tbody tr th:only-of-type {\n",
       "        vertical-align: middle;\n",
       "    }\n",
       "\n",
       "    .dataframe tbody tr th {\n",
       "        vertical-align: top;\n",
       "    }\n",
       "\n",
       "    .dataframe thead th {\n",
       "        text-align: right;\n",
       "    }\n",
       "</style>\n",
       "<table border=\"1\" class=\"dataframe\">\n",
       "  <thead>\n",
       "    <tr style=\"text-align: right;\">\n",
       "      <th></th>\n",
       "      <th>ClientId</th>\n",
       "      <th>Intencion_volver</th>\n",
       "      <th>Segmento_cliente</th>\n",
       "      <th>Acompaniado_amigos</th>\n",
       "      <th>Acompaniado_familia</th>\n",
       "    </tr>\n",
       "  </thead>\n",
       "  <tbody>\n",
       "    <tr>\n",
       "      <th>sum</th>\n",
       "      <td>397386.0</td>\n",
       "      <td>342.00</td>\n",
       "      <td>2057.00</td>\n",
       "      <td>466.00</td>\n",
       "      <td>340.00</td>\n",
       "    </tr>\n",
       "    <tr>\n",
       "      <th>mean</th>\n",
       "      <td>446.0</td>\n",
       "      <td>0.38</td>\n",
       "      <td>2.31</td>\n",
       "      <td>0.52</td>\n",
       "      <td>0.38</td>\n",
       "    </tr>\n",
       "  </tbody>\n",
       "</table>\n",
       "</div>"
      ],
      "text/plain": [
       "      ClientId  Intencion_volver  Segmento_cliente  Acompaniado_amigos  \\\n",
       "sum   397386.0            342.00           2057.00              466.00   \n",
       "mean     446.0              0.38              2.31                0.52   \n",
       "\n",
       "      Acompaniado_familia  \n",
       "sum                340.00  \n",
       "mean                 0.38  "
      ]
     },
     "execution_count": 714,
     "metadata": {},
     "output_type": "execute_result"
    }
   ],
   "source": [
    "encuestas.agg(['sum', 'mean']).round(2)"
   ]
  },
  {
   "cell_type": "markdown",
   "id": "1d65dadf",
   "metadata": {},
   "source": [
    "En esta tabla ya podemos ver que el 38% de los clientes tiene intención de volver al parque de atracciones.\n",
    "Además el 52% vienen acompañados por amigos y el 38% por familiares."
   ]
  },
  {
   "cell_type": "code",
   "execution_count": 715,
   "id": "a91548e6",
   "metadata": {},
   "outputs": [
    {
     "data": {
      "text/plain": [
       "3    491\n",
       "1    216\n",
       "2    184\n",
       "Name: Segmento_cliente, dtype: int64"
      ]
     },
     "execution_count": 715,
     "metadata": {},
     "output_type": "execute_result"
    }
   ],
   "source": [
    "encuestas['Segmento_cliente'].value_counts()"
   ]
  },
  {
   "cell_type": "markdown",
   "id": "1c6b5e6a",
   "metadata": {},
   "source": [
    "La mayoría de clientes (más del 50%) pertenecen al segmento 3.<br>\n",
    "La variable de segmento de cliente es categórica, por tanto tenemos que convertir la variable a string."
   ]
  },
  {
   "cell_type": "code",
   "execution_count": 716,
   "id": "3dbc37f2",
   "metadata": {},
   "outputs": [],
   "source": [
    "# Conversión de Segmento_cliente a string\n",
    "encuestas['Segmento_cliente'] = encuestas['Segmento_cliente'].astype(str)"
   ]
  },
  {
   "cell_type": "code",
   "execution_count": 717,
   "id": "99b8187a",
   "metadata": {},
   "outputs": [
    {
     "name": "stdout",
     "output_type": "stream",
     "text": [
      "0    608\n",
      "1    209\n",
      "2     28\n",
      "4     18\n",
      "3     16\n",
      "8      7\n",
      "5      5\n",
      "Name: Acompaniado_amigos, dtype: int64 \n",
      "\n",
      "0    678\n",
      "1    118\n",
      "2     80\n",
      "5      5\n",
      "3      5\n",
      "4      4\n",
      "6      1\n",
      "Name: Acompaniado_familia, dtype: int64\n"
     ]
    }
   ],
   "source": [
    "print(encuestas['Acompaniado_amigos'].value_counts(), \"\\n\")\n",
    "print(encuestas['Acompaniado_familia'].value_counts())"
   ]
  },
  {
   "cell_type": "markdown",
   "id": "fc22756d",
   "metadata": {},
   "source": [
    "Con las frecuencias anteriores es algo extraño que haya 7 clientes en el grupo de acompañado por 8 amigos.\n",
    "\n",
    "Investigando un poco he encontrado que las 7 personas de ese grupo tienen el mismo apellido 'Sage', lo cual es una inconsistencia con los datos (en todo caso tendrían que estar acompañados por familiares), esto ocurre con varios clientes con el mismo apellido.\n",
    "\n",
    "No entro en más detalle porque igualmente supongo que es debido a como se han creado los datos, pero esto nos puede dar lugar a querer estudiar las intenciones de volver a nivel grupo o familia. He encontrado posibles grupos en los que la opinión sobre la intención de volver cambia dentro de sus miembros y por lo tanto mantengo el estudio a nivel ID de Cliente."
   ]
  },
  {
   "cell_type": "markdown",
   "id": "d85eef56",
   "metadata": {},
   "source": [
    "## Tabla de PUNTOS DE COMPRA"
   ]
  },
  {
   "cell_type": "code",
   "execution_count": 718,
   "id": "b22c68dd",
   "metadata": {},
   "outputs": [
    {
     "name": "stdout",
     "output_type": "stream",
     "text": [
      "                                              Nombre Punto_Compra\n",
      "0                            Braund, Mr. Owen Harris            S\n",
      "1  Cumings, Mrs. John Bradley (Florence Briggs Th...            C\n",
      "2                             Heikkinen, Miss. Laina            S\n",
      "3       Futrelle, Mrs. Jacques Heath (Lily May Peel)            S\n",
      "4                           Allen, Mr. William Henry            S \n",
      "\n",
      "Duplicados: 238\n"
     ]
    }
   ],
   "source": [
    "print(punto_compra.head(), \"\\n\")\n",
    "\n",
    "# Comprobamos duplicados\n",
    "print(\"Duplicados:\", punto_compra.duplicated().sum())"
   ]
  },
  {
   "cell_type": "markdown",
   "id": "43c72613",
   "metadata": {},
   "source": [
    "Hay 238 duplicados exactos.\n",
    "\n",
    "Podría deberse a que un cliente pueda comprar en varios puntos de compra, sin embargo, no hay clientes con 2 puntos de compra distintos (siempre el duplicado es de Nombre y Punto de Compra), incluso tenemos 2 Clientes que no tienen el punto de compra informado.\n",
    "\n",
    "Se puede ver fijandonos en los tamaños de las siguientes agrupaciones:"
   ]
  },
  {
   "cell_type": "code",
   "execution_count": 719,
   "id": "a0b05dad",
   "metadata": {},
   "outputs": [
    {
     "name": "stdout",
     "output_type": "stream",
     "text": [
      "Nombres únicos: 891\n"
     ]
    }
   ],
   "source": [
    "aux = punto_compra.groupby(['Nombre']).agg({'Punto_Compra' : ['count']})\n",
    "print(\"Nombres únicos:\", aux.shape[0])"
   ]
  },
  {
   "cell_type": "code",
   "execution_count": 720,
   "id": "afb48498",
   "metadata": {},
   "outputs": [
    {
     "name": "stdout",
     "output_type": "stream",
     "text": [
      "Nombres y Puntos de Compra únicos: 889\n"
     ]
    }
   ],
   "source": [
    "aux = punto_compra.groupby(['Nombre', 'Punto_Compra']).agg({'Punto_Compra' : ['count']})\n",
    "print(\"Nombres y Puntos de Compra únicos:\",aux.shape[0])"
   ]
  },
  {
   "cell_type": "code",
   "execution_count": 721,
   "id": "ed55c447",
   "metadata": {},
   "outputs": [
    {
     "name": "stdout",
     "output_type": "stream",
     "text": [
      "Dimensión de tabla punto de compra:  (891, 2)\n"
     ]
    }
   ],
   "source": [
    "# Nos quitamos los duplicados:\n",
    "punto_compra = punto_compra.loc[~punto_compra.duplicated(), ]\n",
    "print(\"Dimensión de tabla punto de compra: \", punto_compra.shape)"
   ]
  },
  {
   "cell_type": "markdown",
   "id": "256b52d5",
   "metadata": {},
   "source": [
    "## Juntar tablas\n",
    "\n",
    "Finalmente juntamos las BBDD y comprobamos que no se genera ningún duplicado o nuevos valores en blanco porque no haya cruzado bien alguna tabla."
   ]
  },
  {
   "cell_type": "code",
   "execution_count": 722,
   "id": "ed64d9a8",
   "metadata": {},
   "outputs": [
    {
     "name": "stdout",
     "output_type": "stream",
     "text": [
      "   ClientId                                             Nombre    Sexo  Edad  \\\n",
      "0         1                            Braund, Mr. Owen Harris    male  22.0   \n",
      "1         2  Cumings, Mrs. John Bradley (Florence Briggs Th...  female  38.0   \n",
      "2         3                             Heikkinen, Miss. Laina  female  26.0   \n",
      "3         4       Futrelle, Mrs. Jacques Heath (Lily May Peel)  female  35.0   \n",
      "4         5                           Allen, Mr. William Henry    male  35.0   \n",
      "\n",
      "  Punto_Compra  Producto_A  Producto_B  Producto_C  Intencion_volver  \\\n",
      "0            S    0.824350    1.983631    4.442019                 0   \n",
      "1            C   44.359555    8.311497   18.612248                 1   \n",
      "2            S    4.828502    0.955905    2.140593                 1   \n",
      "3            S   33.101448    6.173654   13.824897                 1   \n",
      "4            S    6.930369    0.345636    0.773995                 0   \n",
      "\n",
      "  Segmento_cliente  Acompaniado_amigos  Acompaniado_familia  \n",
      "0                3                   1                    0  \n",
      "1                1                   1                    0  \n",
      "2                3                   0                    0  \n",
      "3                1                   1                    0  \n",
      "4                3                   0                    0   \n",
      "\n",
      "Tamaño de la tabla final: (891, 12)\n"
     ]
    }
   ],
   "source": [
    "data = clientes.merge(punto_compra).merge(consumo).merge(encuestas)\n",
    "print(data.head(), \"\\n\")\n",
    "print(\"Tamaño de la tabla final:\", data.shape)"
   ]
  },
  {
   "cell_type": "code",
   "execution_count": 723,
   "id": "823987af",
   "metadata": {},
   "outputs": [
    {
     "name": "stdout",
     "output_type": "stream",
     "text": [
      "ClientId                 0\n",
      "Nombre                   0\n",
      "Sexo                     0\n",
      "Edad                   177\n",
      "Punto_Compra             2\n",
      "Producto_A               0\n",
      "Producto_B               0\n",
      "Producto_C               0\n",
      "Intencion_volver         0\n",
      "Segmento_cliente         0\n",
      "Acompaniado_amigos       0\n",
      "Acompaniado_familia      0\n",
      "dtype: int64 \n",
      "\n",
      "Seguimos teniendo los mismos NA de partida, por lo que todas las tablas se han informado correctamente.\n"
     ]
    }
   ],
   "source": [
    "# Comprobación de valores perdidos\n",
    "print(data.isnull().sum(),\"\\n\")\n",
    "print(\"Seguimos teniendo los mismos NA de partida, por lo que todas las tablas se han informado correctamente.\")"
   ]
  },
  {
   "cell_type": "markdown",
   "id": "f8cd356f",
   "metadata": {},
   "source": [
    "## Correlaciones"
   ]
  },
  {
   "cell_type": "code",
   "execution_count": 724,
   "id": "917c63dd",
   "metadata": {},
   "outputs": [
    {
     "data": {
      "text/plain": [
       "<AxesSubplot:>"
      ]
     },
     "execution_count": 724,
     "metadata": {},
     "output_type": "execute_result"
    },
    {
     "data": {
      "image/png": "[encoded data removed]",
      "text/plain": [
       "<Figure size 432x288 with 2 Axes>"
      ]
     },
     "metadata": {
      "needs_background": "light"
     },
     "output_type": "display_data"
    }
   ],
   "source": [
    "columnas_numericas = ['Intencion_volver','Edad','Producto_A','Producto_B','Producto_C', \n",
    "                      'Acompaniado_amigos','Acompaniado_familia']\n",
    "data_numerico = pd.DataFrame(data, columns=columnas_numericas)\n",
    "\n",
    "corrMatrix = data_numerico.corr()\n",
    "sn.heatmap(corrMatrix, annot=True)"
   ]
  },
  {
   "cell_type": "markdown",
   "id": "c682d5fe",
   "metadata": {},
   "source": [
    "Vemos que hay correlación positiva perfecta entre el Producto_B y el Producto_C, por tanto podemos descartar una de estas variables para nuestros modelos, he decidido dejar fuera el Producto_C.\n",
    "\n",
    "Por otro lado hay algo de correlación entre Acompaniado_amigos y Acompaniado_familia y un poco menos entre el Producto_A y Producto_B, posiblemente en nuestro modelo de regresión logística entre solo una variable de cada una de estas variables correladas."
   ]
  },
  {
   "cell_type": "markdown",
   "id": "8a51e37b",
   "metadata": {},
   "source": [
    "## Análisis Univariable\n",
    "\n",
    "Aquí iremos viendo como se comporta cada varible con respecto a la variable objetivo. \n",
    "\n",
    "Es posible hacer modelos para ver si las variables son significativas o no pero lo hare de forma simple con agrupaciones."
   ]
  },
  {
   "cell_type": "code",
   "execution_count": 725,
   "id": "13be5b2d",
   "metadata": {},
   "outputs": [
    {
     "data": {
      "text/html": [
       "<div>\n",
       "<style scoped>\n",
       "    .dataframe tbody tr th:only-of-type {\n",
       "        vertical-align: middle;\n",
       "    }\n",
       "\n",
       "    .dataframe tbody tr th {\n",
       "        vertical-align: top;\n",
       "    }\n",
       "\n",
       "    .dataframe thead tr th {\n",
       "        text-align: left;\n",
       "    }\n",
       "\n",
       "    .dataframe thead tr:last-of-type th {\n",
       "        text-align: right;\n",
       "    }\n",
       "</style>\n",
       "<table border=\"1\" class=\"dataframe\">\n",
       "  <thead>\n",
       "    <tr>\n",
       "      <th></th>\n",
       "      <th colspan=\"2\" halign=\"left\">Intencion_volver</th>\n",
       "    </tr>\n",
       "    <tr>\n",
       "      <th></th>\n",
       "      <th>count</th>\n",
       "      <th>mean</th>\n",
       "    </tr>\n",
       "    <tr>\n",
       "      <th>Edad_A</th>\n",
       "      <th></th>\n",
       "      <th></th>\n",
       "    </tr>\n",
       "  </thead>\n",
       "  <tbody>\n",
       "    <tr>\n",
       "      <th>00. NA</th>\n",
       "      <td>177</td>\n",
       "      <td>0.29</td>\n",
       "    </tr>\n",
       "    <tr>\n",
       "      <th>01. &lt; 18</th>\n",
       "      <td>113</td>\n",
       "      <td>0.54</td>\n",
       "    </tr>\n",
       "    <tr>\n",
       "      <th>02. 18-30</th>\n",
       "      <td>271</td>\n",
       "      <td>0.35</td>\n",
       "    </tr>\n",
       "    <tr>\n",
       "      <th>03. 30-40</th>\n",
       "      <td>167</td>\n",
       "      <td>0.44</td>\n",
       "    </tr>\n",
       "    <tr>\n",
       "      <th>04. &gt; 40</th>\n",
       "      <td>163</td>\n",
       "      <td>0.37</td>\n",
       "    </tr>\n",
       "  </tbody>\n",
       "</table>\n",
       "</div>"
      ],
      "text/plain": [
       "          Intencion_volver      \n",
       "                     count  mean\n",
       "Edad_A                          \n",
       "00. NA                 177  0.29\n",
       "01. < 18               113  0.54\n",
       "02. 18-30              271  0.35\n",
       "03. 30-40              167  0.44\n",
       "04. > 40               163  0.37"
      ]
     },
     "execution_count": 725,
     "metadata": {},
     "output_type": "execute_result"
    }
   ],
   "source": [
    "# Edad\n",
    "# Para la edad creamos una agrupación\n",
    "data['Edad_A'] = \"00. NA\" \n",
    "data.loc[data['Edad'] < 18, 'Edad_A'] = \"01. < 18\"\n",
    "data.loc[data['Edad'] >= 18, 'Edad_A'] = \"02. 18-30\"\n",
    "data.loc[data['Edad'] >= 30, 'Edad_A'] = \"03. 30-40\"\n",
    "data.loc[data['Edad'] >= 40, 'Edad_A'] = \"04. > 40\"\n",
    "\n",
    "data.groupby(['Edad_A']).agg({'Intencion_volver' : ['count', 'mean']}).round(2)"
   ]
  },
  {
   "cell_type": "markdown",
   "id": "4b82a702",
   "metadata": {},
   "source": [
    "Vemos que la intención de volver varía en función de las edades y no es lineal, en los menores de edad es considerablemente superior que el resto.\n",
    "\n",
    "Por otro lado llama la atención que los NA de edad tengan la intención de volver más baja que el resto, una posibilidad es que sean clientes menos preocupados en el parque y por eso rellenan la encuesta a medias y tienen peor intención de volver.\n",
    "\n",
    "Esto último hay que tenerlo en cuenta a la hora de imputar la edad, en nuestro caso haremos una imputación por la media pero es importante añadir una variable indicadora de los clientes que no tienen la edad informada."
   ]
  },
  {
   "cell_type": "code",
   "execution_count": 726,
   "id": "a3768d6d",
   "metadata": {},
   "outputs": [
    {
     "data": {
      "text/html": [
       "<div>\n",
       "<style scoped>\n",
       "    .dataframe tbody tr th:only-of-type {\n",
       "        vertical-align: middle;\n",
       "    }\n",
       "\n",
       "    .dataframe tbody tr th {\n",
       "        vertical-align: top;\n",
       "    }\n",
       "\n",
       "    .dataframe thead tr th {\n",
       "        text-align: left;\n",
       "    }\n",
       "\n",
       "    .dataframe thead tr:last-of-type th {\n",
       "        text-align: right;\n",
       "    }\n",
       "</style>\n",
       "<table border=\"1\" class=\"dataframe\">\n",
       "  <thead>\n",
       "    <tr>\n",
       "      <th></th>\n",
       "      <th colspan=\"2\" halign=\"left\">Intencion_volver</th>\n",
       "    </tr>\n",
       "    <tr>\n",
       "      <th></th>\n",
       "      <th>count</th>\n",
       "      <th>mean</th>\n",
       "    </tr>\n",
       "    <tr>\n",
       "      <th>Sexo</th>\n",
       "      <th></th>\n",
       "      <th></th>\n",
       "    </tr>\n",
       "  </thead>\n",
       "  <tbody>\n",
       "    <tr>\n",
       "      <th>female</th>\n",
       "      <td>314</td>\n",
       "      <td>0.74</td>\n",
       "    </tr>\n",
       "    <tr>\n",
       "      <th>male</th>\n",
       "      <td>577</td>\n",
       "      <td>0.19</td>\n",
       "    </tr>\n",
       "  </tbody>\n",
       "</table>\n",
       "</div>"
      ],
      "text/plain": [
       "       Intencion_volver      \n",
       "                  count  mean\n",
       "Sexo                         \n",
       "female              314  0.74\n",
       "male                577  0.19"
      ]
     },
     "execution_count": 726,
     "metadata": {},
     "output_type": "execute_result"
    }
   ],
   "source": [
    "data.groupby(['Sexo']).agg({'Intencion_volver' : ['count', 'mean']}).round(2)"
   ]
  },
  {
   "cell_type": "markdown",
   "id": "e858bf0a",
   "metadata": {},
   "source": [
    "Vemos que las mujeres tienen mucha más intención de volver que los hombres."
   ]
  },
  {
   "cell_type": "code",
   "execution_count": 727,
   "id": "1470ffea",
   "metadata": {},
   "outputs": [
    {
     "data": {
      "text/html": [
       "<div>\n",
       "<style scoped>\n",
       "    .dataframe tbody tr th:only-of-type {\n",
       "        vertical-align: middle;\n",
       "    }\n",
       "\n",
       "    .dataframe tbody tr th {\n",
       "        vertical-align: top;\n",
       "    }\n",
       "\n",
       "    .dataframe thead tr th {\n",
       "        text-align: left;\n",
       "    }\n",
       "\n",
       "    .dataframe thead tr:last-of-type th {\n",
       "        text-align: right;\n",
       "    }\n",
       "</style>\n",
       "<table border=\"1\" class=\"dataframe\">\n",
       "  <thead>\n",
       "    <tr>\n",
       "      <th></th>\n",
       "      <th></th>\n",
       "      <th colspan=\"2\" halign=\"left\">Intencion_volver</th>\n",
       "    </tr>\n",
       "    <tr>\n",
       "      <th></th>\n",
       "      <th></th>\n",
       "      <th>count</th>\n",
       "      <th>mean</th>\n",
       "    </tr>\n",
       "    <tr>\n",
       "      <th>Sexo</th>\n",
       "      <th>Edad_A</th>\n",
       "      <th></th>\n",
       "      <th></th>\n",
       "    </tr>\n",
       "  </thead>\n",
       "  <tbody>\n",
       "    <tr>\n",
       "      <th rowspan=\"5\" valign=\"top\">female</th>\n",
       "      <th>00. NA</th>\n",
       "      <td>53</td>\n",
       "      <td>0.68</td>\n",
       "    </tr>\n",
       "    <tr>\n",
       "      <th>01. &lt; 18</th>\n",
       "      <td>55</td>\n",
       "      <td>0.69</td>\n",
       "    </tr>\n",
       "    <tr>\n",
       "      <th>02. 18-30</th>\n",
       "      <td>92</td>\n",
       "      <td>0.73</td>\n",
       "    </tr>\n",
       "    <tr>\n",
       "      <th>03. 30-40</th>\n",
       "      <td>60</td>\n",
       "      <td>0.83</td>\n",
       "    </tr>\n",
       "    <tr>\n",
       "      <th>04. &gt; 40</th>\n",
       "      <td>54</td>\n",
       "      <td>0.78</td>\n",
       "    </tr>\n",
       "    <tr>\n",
       "      <th rowspan=\"5\" valign=\"top\">male</th>\n",
       "      <th>00. NA</th>\n",
       "      <td>124</td>\n",
       "      <td>0.13</td>\n",
       "    </tr>\n",
       "    <tr>\n",
       "      <th>01. &lt; 18</th>\n",
       "      <td>58</td>\n",
       "      <td>0.40</td>\n",
       "    </tr>\n",
       "    <tr>\n",
       "      <th>02. 18-30</th>\n",
       "      <td>179</td>\n",
       "      <td>0.16</td>\n",
       "    </tr>\n",
       "    <tr>\n",
       "      <th>03. 30-40</th>\n",
       "      <td>107</td>\n",
       "      <td>0.21</td>\n",
       "    </tr>\n",
       "    <tr>\n",
       "      <th>04. &gt; 40</th>\n",
       "      <td>109</td>\n",
       "      <td>0.17</td>\n",
       "    </tr>\n",
       "  </tbody>\n",
       "</table>\n",
       "</div>"
      ],
      "text/plain": [
       "                 Intencion_volver      \n",
       "                            count  mean\n",
       "Sexo   Edad_A                          \n",
       "female 00. NA                  53  0.68\n",
       "       01. < 18                55  0.69\n",
       "       02. 18-30               92  0.73\n",
       "       03. 30-40               60  0.83\n",
       "       04. > 40                54  0.78\n",
       "male   00. NA                 124  0.13\n",
       "       01. < 18                58  0.40\n",
       "       02. 18-30              179  0.16\n",
       "       03. 30-40              107  0.21\n",
       "       04. > 40               109  0.17"
      ]
     },
     "execution_count": 727,
     "metadata": {},
     "output_type": "execute_result"
    }
   ],
   "source": [
    "data.groupby(['Sexo', 'Edad_A']).agg({'Intencion_volver' : ['count', 'mean']}).round(2)"
   ]
  },
  {
   "cell_type": "markdown",
   "id": "62cd23ca",
   "metadata": {},
   "source": [
    "Si vemos la intención de volver por sexo y edades, tenemos que en las mujeres la intención de volver va aumentando con la edad, y que los hombres cuando son menores de 18 tienen buena intención de volver pero cae drásticamente según se hacen mayores.\n",
    "\n",
    "Esto nos indica que hay una interacción entre el sexo y la edad."
   ]
  },
  {
   "cell_type": "code",
   "execution_count": 728,
   "id": "d132018d",
   "metadata": {},
   "outputs": [
    {
     "data": {
      "text/html": [
       "<div>\n",
       "<style scoped>\n",
       "    .dataframe tbody tr th:only-of-type {\n",
       "        vertical-align: middle;\n",
       "    }\n",
       "\n",
       "    .dataframe tbody tr th {\n",
       "        vertical-align: top;\n",
       "    }\n",
       "\n",
       "    .dataframe thead tr th {\n",
       "        text-align: left;\n",
       "    }\n",
       "\n",
       "    .dataframe thead tr:last-of-type th {\n",
       "        text-align: right;\n",
       "    }\n",
       "</style>\n",
       "<table border=\"1\" class=\"dataframe\">\n",
       "  <thead>\n",
       "    <tr>\n",
       "      <th></th>\n",
       "      <th colspan=\"2\" halign=\"left\">Intencion_volver</th>\n",
       "    </tr>\n",
       "    <tr>\n",
       "      <th></th>\n",
       "      <th>count</th>\n",
       "      <th>mean</th>\n",
       "    </tr>\n",
       "    <tr>\n",
       "      <th>Punto_Compra</th>\n",
       "      <th></th>\n",
       "      <th></th>\n",
       "    </tr>\n",
       "  </thead>\n",
       "  <tbody>\n",
       "    <tr>\n",
       "      <th>C</th>\n",
       "      <td>168</td>\n",
       "      <td>0.55</td>\n",
       "    </tr>\n",
       "    <tr>\n",
       "      <th>Q</th>\n",
       "      <td>77</td>\n",
       "      <td>0.39</td>\n",
       "    </tr>\n",
       "    <tr>\n",
       "      <th>S</th>\n",
       "      <td>644</td>\n",
       "      <td>0.34</td>\n",
       "    </tr>\n",
       "  </tbody>\n",
       "</table>\n",
       "</div>"
      ],
      "text/plain": [
       "             Intencion_volver      \n",
       "                        count  mean\n",
       "Punto_Compra                       \n",
       "C                         168  0.55\n",
       "Q                          77  0.39\n",
       "S                         644  0.34"
      ]
     },
     "execution_count": 728,
     "metadata": {},
     "output_type": "execute_result"
    }
   ],
   "source": [
    "data.groupby(['Punto_Compra']).agg({'Intencion_volver' : ['count', 'mean']}).round(2)"
   ]
  },
  {
   "cell_type": "code",
   "execution_count": 729,
   "id": "9a22f8ea",
   "metadata": {},
   "outputs": [
    {
     "data": {
      "text/html": [
       "<div>\n",
       "<style scoped>\n",
       "    .dataframe tbody tr th:only-of-type {\n",
       "        vertical-align: middle;\n",
       "    }\n",
       "\n",
       "    .dataframe tbody tr th {\n",
       "        vertical-align: top;\n",
       "    }\n",
       "\n",
       "    .dataframe thead tr th {\n",
       "        text-align: left;\n",
       "    }\n",
       "\n",
       "    .dataframe thead tr:last-of-type th {\n",
       "        text-align: right;\n",
       "    }\n",
       "</style>\n",
       "<table border=\"1\" class=\"dataframe\">\n",
       "  <thead>\n",
       "    <tr>\n",
       "      <th></th>\n",
       "      <th colspan=\"2\" halign=\"left\">Intencion_volver</th>\n",
       "    </tr>\n",
       "    <tr>\n",
       "      <th></th>\n",
       "      <th>count</th>\n",
       "      <th>mean</th>\n",
       "    </tr>\n",
       "    <tr>\n",
       "      <th>Segmento_cliente</th>\n",
       "      <th></th>\n",
       "      <th></th>\n",
       "    </tr>\n",
       "  </thead>\n",
       "  <tbody>\n",
       "    <tr>\n",
       "      <th>1</th>\n",
       "      <td>216</td>\n",
       "      <td>0.63</td>\n",
       "    </tr>\n",
       "    <tr>\n",
       "      <th>2</th>\n",
       "      <td>184</td>\n",
       "      <td>0.47</td>\n",
       "    </tr>\n",
       "    <tr>\n",
       "      <th>3</th>\n",
       "      <td>491</td>\n",
       "      <td>0.24</td>\n",
       "    </tr>\n",
       "  </tbody>\n",
       "</table>\n",
       "</div>"
      ],
      "text/plain": [
       "                 Intencion_volver      \n",
       "                            count  mean\n",
       "Segmento_cliente                       \n",
       "1                             216  0.63\n",
       "2                             184  0.47\n",
       "3                             491  0.24"
      ]
     },
     "execution_count": 729,
     "metadata": {},
     "output_type": "execute_result"
    }
   ],
   "source": [
    "data.groupby(['Segmento_cliente']).agg({'Intencion_volver' : ['count', 'mean']}).round(2)"
   ]
  },
  {
   "cell_type": "code",
   "execution_count": 730,
   "id": "f741f68e",
   "metadata": {},
   "outputs": [
    {
     "data": {
      "text/html": [
       "<div>\n",
       "<style scoped>\n",
       "    .dataframe tbody tr th:only-of-type {\n",
       "        vertical-align: middle;\n",
       "    }\n",
       "\n",
       "    .dataframe tbody tr th {\n",
       "        vertical-align: top;\n",
       "    }\n",
       "\n",
       "    .dataframe thead tr th {\n",
       "        text-align: left;\n",
       "    }\n",
       "\n",
       "    .dataframe thead tr:last-of-type th {\n",
       "        text-align: right;\n",
       "    }\n",
       "</style>\n",
       "<table border=\"1\" class=\"dataframe\">\n",
       "  <thead>\n",
       "    <tr>\n",
       "      <th></th>\n",
       "      <th colspan=\"2\" halign=\"left\">Intencion_volver</th>\n",
       "    </tr>\n",
       "    <tr>\n",
       "      <th></th>\n",
       "      <th>count</th>\n",
       "      <th>mean</th>\n",
       "    </tr>\n",
       "    <tr>\n",
       "      <th>Acompaniado_amigos</th>\n",
       "      <th></th>\n",
       "      <th></th>\n",
       "    </tr>\n",
       "  </thead>\n",
       "  <tbody>\n",
       "    <tr>\n",
       "      <th>0</th>\n",
       "      <td>608</td>\n",
       "      <td>0.35</td>\n",
       "    </tr>\n",
       "    <tr>\n",
       "      <th>1</th>\n",
       "      <td>209</td>\n",
       "      <td>0.54</td>\n",
       "    </tr>\n",
       "    <tr>\n",
       "      <th>2</th>\n",
       "      <td>28</td>\n",
       "      <td>0.46</td>\n",
       "    </tr>\n",
       "    <tr>\n",
       "      <th>3</th>\n",
       "      <td>16</td>\n",
       "      <td>0.25</td>\n",
       "    </tr>\n",
       "    <tr>\n",
       "      <th>4</th>\n",
       "      <td>18</td>\n",
       "      <td>0.17</td>\n",
       "    </tr>\n",
       "    <tr>\n",
       "      <th>5</th>\n",
       "      <td>5</td>\n",
       "      <td>0.00</td>\n",
       "    </tr>\n",
       "    <tr>\n",
       "      <th>8</th>\n",
       "      <td>7</td>\n",
       "      <td>0.00</td>\n",
       "    </tr>\n",
       "  </tbody>\n",
       "</table>\n",
       "</div>"
      ],
      "text/plain": [
       "                   Intencion_volver      \n",
       "                              count  mean\n",
       "Acompaniado_amigos                       \n",
       "0                               608  0.35\n",
       "1                               209  0.54\n",
       "2                                28  0.46\n",
       "3                                16  0.25\n",
       "4                                18  0.17\n",
       "5                                 5  0.00\n",
       "8                                 7  0.00"
      ]
     },
     "execution_count": 730,
     "metadata": {},
     "output_type": "execute_result"
    }
   ],
   "source": [
    "data.groupby(['Acompaniado_amigos']).agg({'Intencion_volver' : ['count', 'mean']}).round(2)"
   ]
  },
  {
   "cell_type": "code",
   "execution_count": 731,
   "id": "66e41369",
   "metadata": {},
   "outputs": [
    {
     "data": {
      "text/html": [
       "<div>\n",
       "<style scoped>\n",
       "    .dataframe tbody tr th:only-of-type {\n",
       "        vertical-align: middle;\n",
       "    }\n",
       "\n",
       "    .dataframe tbody tr th {\n",
       "        vertical-align: top;\n",
       "    }\n",
       "\n",
       "    .dataframe thead tr th {\n",
       "        text-align: left;\n",
       "    }\n",
       "\n",
       "    .dataframe thead tr:last-of-type th {\n",
       "        text-align: right;\n",
       "    }\n",
       "</style>\n",
       "<table border=\"1\" class=\"dataframe\">\n",
       "  <thead>\n",
       "    <tr>\n",
       "      <th></th>\n",
       "      <th colspan=\"2\" halign=\"left\">Intencion_volver</th>\n",
       "    </tr>\n",
       "    <tr>\n",
       "      <th></th>\n",
       "      <th>count</th>\n",
       "      <th>mean</th>\n",
       "    </tr>\n",
       "    <tr>\n",
       "      <th>Acompaniado_familia</th>\n",
       "      <th></th>\n",
       "      <th></th>\n",
       "    </tr>\n",
       "  </thead>\n",
       "  <tbody>\n",
       "    <tr>\n",
       "      <th>0</th>\n",
       "      <td>678</td>\n",
       "      <td>0.34</td>\n",
       "    </tr>\n",
       "    <tr>\n",
       "      <th>1</th>\n",
       "      <td>118</td>\n",
       "      <td>0.55</td>\n",
       "    </tr>\n",
       "    <tr>\n",
       "      <th>2</th>\n",
       "      <td>80</td>\n",
       "      <td>0.50</td>\n",
       "    </tr>\n",
       "    <tr>\n",
       "      <th>3</th>\n",
       "      <td>5</td>\n",
       "      <td>0.60</td>\n",
       "    </tr>\n",
       "    <tr>\n",
       "      <th>4</th>\n",
       "      <td>4</td>\n",
       "      <td>0.00</td>\n",
       "    </tr>\n",
       "    <tr>\n",
       "      <th>5</th>\n",
       "      <td>5</td>\n",
       "      <td>0.20</td>\n",
       "    </tr>\n",
       "    <tr>\n",
       "      <th>6</th>\n",
       "      <td>1</td>\n",
       "      <td>0.00</td>\n",
       "    </tr>\n",
       "  </tbody>\n",
       "</table>\n",
       "</div>"
      ],
      "text/plain": [
       "                    Intencion_volver      \n",
       "                               count  mean\n",
       "Acompaniado_familia                       \n",
       "0                                678  0.34\n",
       "1                                118  0.55\n",
       "2                                 80  0.50\n",
       "3                                  5  0.60\n",
       "4                                  4  0.00\n",
       "5                                  5  0.20\n",
       "6                                  1  0.00"
      ]
     },
     "execution_count": 731,
     "metadata": {},
     "output_type": "execute_result"
    }
   ],
   "source": [
    "data.groupby(['Acompaniado_familia']).agg({'Intencion_volver' : ['count', 'mean']}).round(2)"
   ]
  },
  {
   "cell_type": "markdown",
   "id": "303e4fe7",
   "metadata": {},
   "source": [
    "Tenemos que la intención de volver:\n",
    "- Es mejor en el punto de compra C.\n",
    "- Es mejor en el segmento 1, luego el 2 y en último lugar el 3.\n",
    "- Es mejor en los clientes que van acompañados de amigos o familiares.\n",
    "    "
   ]
  },
  {
   "cell_type": "markdown",
   "id": "bb0c1972",
   "metadata": {},
   "source": [
    "## Preparación de la BBDD\n",
    "\n",
    "Aquí añadimos variables adicionales o transformamos las variables en función de lo que hemos visto anteriormente y preparamos la BBDD para que pueda ser utilizada para entrenar los modelos."
   ]
  },
  {
   "cell_type": "code",
   "execution_count": 732,
   "id": "1a7bba42",
   "metadata": {},
   "outputs": [],
   "source": [
    "# Imputamos valores perdidos de edad con la media puesto que representan un 20% de los datos\n",
    "# y nos quitaríamos mucha información si decidimos eliminarlos.\n",
    "# Se podría imputar también haciendo otro modelo de edad, aunque\n",
    "# por simplicidad mantendré la media\n",
    "# Informo primero en otra variable las observaciones con NA\n",
    "data['Edad_A'] = 0\n",
    "data.loc[data['Edad'].isnull(),'Edad_A'] = 1\n",
    "# Rellenos los NA con la media\n",
    "data['Edad'] = data['Edad'].fillna(data['Edad'].mean())\n",
    "\n",
    "# Creamos variables extras\n",
    "# Sumas de Acompañantes y de Productos A y B\n",
    "data['Acompaniado_total'] = data['Acompaniado_amigos'] + data['Acompaniado_familia']\n",
    "data['Acompaniado'] = data['Acompaniado_total']\n",
    "data.loc[data['Acompaniado_total'] > 1,'Acompaniado'] = 1\n",
    "data['Producto_total'] = data['Producto_A'] + data['Producto_B']\n",
    "\n",
    "# Porcentajes de productos respecto a la suma del Producto A y B                            \n",
    "data['Producto_A_porcentaje'] = data['Producto_A'] / data['Producto_total']\n",
    "data['Producto_B_porcentaje'] = data['Producto_B'] / data['Producto_total']\n",
    "# Limpio los NaN generados por la gente que no gastado nada en Productos.\n",
    "data['Producto_A_porcentaje'] = data['Producto_A_porcentaje'].fillna(0)\n",
    "data['Producto_B_porcentaje'] = data['Producto_B_porcentaje'].fillna(0)\n",
    "\n",
    "# Transformaciones a logaritmo (sumo 1 para evitar el -Inf en 0)\n",
    "data['Producto_A_log'] = np.log(data['Producto_A'] + 1)\n",
    "data['Producto_B_log'] = np.log(data['Producto_B'] + 1)\n",
    "data['Producto_total_log'] = np.log(data['Producto_total'] + 1)"
   ]
  },
  {
   "cell_type": "markdown",
   "id": "886c6302",
   "metadata": {},
   "source": [
    "## Creación de train y test"
   ]
  },
  {
   "cell_type": "code",
   "execution_count": 733,
   "id": "44ecb65f",
   "metadata": {},
   "outputs": [
    {
     "data": {
      "text/html": [
       "<div>\n",
       "<style scoped>\n",
       "    .dataframe tbody tr th:only-of-type {\n",
       "        vertical-align: middle;\n",
       "    }\n",
       "\n",
       "    .dataframe tbody tr th {\n",
       "        vertical-align: top;\n",
       "    }\n",
       "\n",
       "    .dataframe thead th {\n",
       "        text-align: right;\n",
       "    }\n",
       "</style>\n",
       "<table border=\"1\" class=\"dataframe\">\n",
       "  <thead>\n",
       "    <tr style=\"text-align: right;\">\n",
       "      <th></th>\n",
       "      <th>Edad</th>\n",
       "      <th>Producto_A</th>\n",
       "      <th>Producto_B</th>\n",
       "      <th>Intencion_volver</th>\n",
       "      <th>Acompaniado_amigos</th>\n",
       "      <th>Acompaniado_familia</th>\n",
       "      <th>Edad_A</th>\n",
       "      <th>Acompaniado_total</th>\n",
       "      <th>Acompaniado</th>\n",
       "      <th>Producto_total</th>\n",
       "      <th>...</th>\n",
       "      <th>Producto_A_log</th>\n",
       "      <th>Producto_B_log</th>\n",
       "      <th>Producto_total_log</th>\n",
       "      <th>Sexo_female</th>\n",
       "      <th>Punto_Compra_C</th>\n",
       "      <th>Punto_Compra_Q</th>\n",
       "      <th>Punto_Compra_S</th>\n",
       "      <th>Segmento_cliente_1</th>\n",
       "      <th>Segmento_cliente_2</th>\n",
       "      <th>Segmento_cliente_3</th>\n",
       "    </tr>\n",
       "  </thead>\n",
       "  <tbody>\n",
       "    <tr>\n",
       "      <th>0</th>\n",
       "      <td>22.0</td>\n",
       "      <td>0.824350</td>\n",
       "      <td>1.983631</td>\n",
       "      <td>0</td>\n",
       "      <td>1</td>\n",
       "      <td>0</td>\n",
       "      <td>0</td>\n",
       "      <td>1</td>\n",
       "      <td>1</td>\n",
       "      <td>2.807981</td>\n",
       "      <td>...</td>\n",
       "      <td>0.601224</td>\n",
       "      <td>1.093141</td>\n",
       "      <td>1.337099</td>\n",
       "      <td>0</td>\n",
       "      <td>0</td>\n",
       "      <td>0</td>\n",
       "      <td>1</td>\n",
       "      <td>0</td>\n",
       "      <td>0</td>\n",
       "      <td>1</td>\n",
       "    </tr>\n",
       "    <tr>\n",
       "      <th>1</th>\n",
       "      <td>38.0</td>\n",
       "      <td>44.359555</td>\n",
       "      <td>8.311497</td>\n",
       "      <td>1</td>\n",
       "      <td>1</td>\n",
       "      <td>0</td>\n",
       "      <td>0</td>\n",
       "      <td>1</td>\n",
       "      <td>1</td>\n",
       "      <td>52.671052</td>\n",
       "      <td>...</td>\n",
       "      <td>3.814621</td>\n",
       "      <td>2.231250</td>\n",
       "      <td>3.982874</td>\n",
       "      <td>1</td>\n",
       "      <td>1</td>\n",
       "      <td>0</td>\n",
       "      <td>0</td>\n",
       "      <td>1</td>\n",
       "      <td>0</td>\n",
       "      <td>0</td>\n",
       "    </tr>\n",
       "    <tr>\n",
       "      <th>2</th>\n",
       "      <td>26.0</td>\n",
       "      <td>4.828502</td>\n",
       "      <td>0.955905</td>\n",
       "      <td>1</td>\n",
       "      <td>0</td>\n",
       "      <td>0</td>\n",
       "      <td>0</td>\n",
       "      <td>0</td>\n",
       "      <td>0</td>\n",
       "      <td>5.784407</td>\n",
       "      <td>...</td>\n",
       "      <td>1.762760</td>\n",
       "      <td>0.670853</td>\n",
       "      <td>1.914627</td>\n",
       "      <td>1</td>\n",
       "      <td>0</td>\n",
       "      <td>0</td>\n",
       "      <td>1</td>\n",
       "      <td>0</td>\n",
       "      <td>0</td>\n",
       "      <td>1</td>\n",
       "    </tr>\n",
       "    <tr>\n",
       "      <th>3</th>\n",
       "      <td>35.0</td>\n",
       "      <td>33.101448</td>\n",
       "      <td>6.173654</td>\n",
       "      <td>1</td>\n",
       "      <td>1</td>\n",
       "      <td>0</td>\n",
       "      <td>0</td>\n",
       "      <td>1</td>\n",
       "      <td>1</td>\n",
       "      <td>39.275103</td>\n",
       "      <td>...</td>\n",
       "      <td>3.529340</td>\n",
       "      <td>1.970415</td>\n",
       "      <td>3.695733</td>\n",
       "      <td>1</td>\n",
       "      <td>0</td>\n",
       "      <td>0</td>\n",
       "      <td>1</td>\n",
       "      <td>1</td>\n",
       "      <td>0</td>\n",
       "      <td>0</td>\n",
       "    </tr>\n",
       "    <tr>\n",
       "      <th>4</th>\n",
       "      <td>35.0</td>\n",
       "      <td>6.930369</td>\n",
       "      <td>0.345636</td>\n",
       "      <td>0</td>\n",
       "      <td>0</td>\n",
       "      <td>0</td>\n",
       "      <td>0</td>\n",
       "      <td>0</td>\n",
       "      <td>0</td>\n",
       "      <td>7.276005</td>\n",
       "      <td>...</td>\n",
       "      <td>2.070700</td>\n",
       "      <td>0.296867</td>\n",
       "      <td>2.113360</td>\n",
       "      <td>0</td>\n",
       "      <td>0</td>\n",
       "      <td>0</td>\n",
       "      <td>1</td>\n",
       "      <td>0</td>\n",
       "      <td>0</td>\n",
       "      <td>1</td>\n",
       "    </tr>\n",
       "  </tbody>\n",
       "</table>\n",
       "<p>5 rows × 22 columns</p>\n",
       "</div>"
      ],
      "text/plain": [
       "   Edad  Producto_A  Producto_B  Intencion_volver  Acompaniado_amigos  \\\n",
       "0  22.0    0.824350    1.983631                 0                   1   \n",
       "1  38.0   44.359555    8.311497                 1                   1   \n",
       "2  26.0    4.828502    0.955905                 1                   0   \n",
       "3  35.0   33.101448    6.173654                 1                   1   \n",
       "4  35.0    6.930369    0.345636                 0                   0   \n",
       "\n",
       "   Acompaniado_familia  Edad_A  Acompaniado_total  Acompaniado  \\\n",
       "0                    0       0                  1            1   \n",
       "1                    0       0                  1            1   \n",
       "2                    0       0                  0            0   \n",
       "3                    0       0                  1            1   \n",
       "4                    0       0                  0            0   \n",
       "\n",
       "   Producto_total  ...  Producto_A_log  Producto_B_log  Producto_total_log  \\\n",
       "0        2.807981  ...        0.601224        1.093141            1.337099   \n",
       "1       52.671052  ...        3.814621        2.231250            3.982874   \n",
       "2        5.784407  ...        1.762760        0.670853            1.914627   \n",
       "3       39.275103  ...        3.529340        1.970415            3.695733   \n",
       "4        7.276005  ...        2.070700        0.296867            2.113360   \n",
       "\n",
       "   Sexo_female  Punto_Compra_C  Punto_Compra_Q  Punto_Compra_S  \\\n",
       "0            0               0               0               1   \n",
       "1            1               1               0               0   \n",
       "2            1               0               0               1   \n",
       "3            1               0               0               1   \n",
       "4            0               0               0               1   \n",
       "\n",
       "   Segmento_cliente_1  Segmento_cliente_2  Segmento_cliente_3  \n",
       "0                   0                   0                   1  \n",
       "1                   1                   0                   0  \n",
       "2                   0                   0                   1  \n",
       "3                   1                   0                   0  \n",
       "4                   0                   0                   1  \n",
       "\n",
       "[5 rows x 22 columns]"
      ]
     },
     "execution_count": 733,
     "metadata": {},
     "output_type": "execute_result"
    }
   ],
   "source": [
    "# Nos quedamos primero con las variables que vamos a utilizar\n",
    "data_mod = data.drop(['ClientId', 'Nombre','Producto_C'], axis = 1)\n",
    "\n",
    "# Creamos las dummies\n",
    "categorical = [col for col in data_mod.columns if data_mod[col].dtypes == 'O']\n",
    "dummies_df = pd.get_dummies(data_mod, columns = categorical)\n",
    "dummies_df = dummies_df.drop(['Sexo_male'], axis = 1) # Quitamos male ya que es redundante\n",
    "dummies_df.head()"
   ]
  },
  {
   "cell_type": "code",
   "execution_count": 734,
   "id": "96ca6128",
   "metadata": {},
   "outputs": [],
   "source": [
    "# Separación de train y test\n",
    "random.seed(1234)\n",
    "drop_cols = ['Intencion_volver']\n",
    "X = dummies_df.drop(drop_cols, axis = 1)\n",
    "y = dummies_df['Intencion_volver']\n",
    "X_train, X_test, y_train, y_test = train_test_split(X, y, test_size=0.2)"
   ]
  },
  {
   "cell_type": "markdown",
   "id": "0c5fc871",
   "metadata": {},
   "source": [
    "## Regresión logística\n",
    "\n",
    "Lo primero que hacemos es elegir las variables que van a entrar en nuestro modelo, para ello he decidido usar un stepwise.\n",
    "\n",
    "Una vez que tenemos las variables creamos nuestro modelo y obtenemos un resumen del modelo y algunas métricas del modelo."
   ]
  },
  {
   "cell_type": "code",
   "execution_count": 735,
   "id": "2241dd7d",
   "metadata": {},
   "outputs": [],
   "source": [
    "def step_wise(X, y,threshold=0.05,verbose=False):\n",
    "    initial_list = []\n",
    "    included = list(initial_list)\n",
    "    included_pval = []\n",
    "    while True:\n",
    "        changed=False\n",
    "        excluded = list(set(X.columns)-set(included))\n",
    "        #print(excluded)\n",
    "        new_pval = pd.Series(index=excluded)\n",
    "        #print(new_pval)\n",
    "        for new_column in excluded:\n",
    "            model = sm.OLS(y, sm.add_constant(pd.DataFrame(X[included+[new_column]]))).fit()\n",
    "            try:\n",
    "                new_pval[new_column] = model.pvalues[new_column]\n",
    "            except:\n",
    "                None\n",
    "        best_pval = new_pval.min()\n",
    "        if best_pval < threshold:\n",
    "            best_feature = new_pval.idxmin()\n",
    "            included.append(best_feature)\n",
    "            included_pval.append(best_pval)\n",
    "            changed=True\n",
    "            #if verbose:\n",
    "            print('Añade {:30} con p-value {:.6}'.format(best_feature, best_pval))\n",
    "        result_list = [(included[i], included_pval[i]) for i in range(0, len(included))]\n",
    "        if not changed:\n",
    "            break\n",
    "\n",
    "    return result_list, included"
   ]
  },
  {
   "cell_type": "code",
   "execution_count": 736,
   "id": "c1ca5fce",
   "metadata": {},
   "outputs": [
    {
     "name": "stdout",
     "output_type": "stream",
     "text": [
      "Añade Sexo_female                    con p-value 4.30224e-50\n",
      "Añade Segmento_cliente_3             con p-value 2.35843e-18\n",
      "Añade Segmento_cliente_2             con p-value 2.32827e-05\n",
      "Añade Segmento_cliente_1             con p-value 2.49047e-22\n",
      "Añade Edad                           con p-value 4.45364e-05\n",
      "Añade Acompaniado_amigos             con p-value 0.000442916\n",
      "Añade Producto_total_log             con p-value 0.00642458\n",
      "Añade Punto_Compra_S                 con p-value 0.0292461\n"
     ]
    }
   ],
   "source": [
    "import warnings\n",
    "warnings.filterwarnings('ignore')\n",
    "pvalores, variables = step_wise(X_train, y_train)"
   ]
  },
  {
   "cell_type": "code",
   "execution_count": 737,
   "id": "4c4e1eb0",
   "metadata": {},
   "outputs": [],
   "source": [
    "# Me quedo con las variables incluidas en el stepwise\n",
    "X_train = X_train.drop(columns=[col for col in X_train if col not in variables])\n",
    "X_test = X_test.drop(columns=[col for col in X_test if col not in variables])"
   ]
  },
  {
   "cell_type": "code",
   "execution_count": 738,
   "id": "908c9d17",
   "metadata": {},
   "outputs": [],
   "source": [
    "def reg_logistica(X_train,y_train,X_test,y_test):\n",
    "    \n",
    "    results = sm.Logit(y_train, X_train).fit()\n",
    "\n",
    "    print(results.summary2())\n",
    "    \n",
    "    predictions = results.predict(X_test)\n",
    "    \n",
    "    fpr, tpr, thresholds = roc_curve(y_test, predictions)\n",
    "    optimal_tpr_list, optimal_tpr, optimal_fpr_list, optimal_fpr, optimal_threshold = def_optimal_threshold(y_test, X_test, results, fpr, tpr, thresholds)\n",
    "    \n",
    "    threshold = optimal_threshold.iloc[0]\n",
    "    \n",
    "    print(\"Punto de corte optimo de la curva ROC:\", threshold.round(3), \"\\n\")\n",
    "\n",
    "    pred = np.array(predictions > threshold, dtype=float)\n",
    "    table = np.histogram2d(y_test, pred, bins=2)[0]\n",
    "    print(\"Matriz de confusión sobre el test:\")\n",
    "    print(table, \"\\n\")\n",
    "    \n",
    "    acc = accuracy(results.pred_table(threshold))\n",
    "    print(\"Accuracy: \", round(acc, 3))\n",
    "    # Sensibilidad\n",
    "    print('Sensibilidad: ', round(optimal_tpr.iloc[0], 3))\n",
    "    # Especificidad\n",
    "    print('Especificidad: ', round(optimal_fpr.iloc[0],3))\n",
    "   \n",
    "    \n",
    "    auc = curva_roc(X_test, y_test, results,optimal_fpr_list, optimal_tpr_list)\n",
    "    print('AUC: ', round(auc, 3))\n",
    "    \n",
    "    # Find prediction to the dataframe applying threshold\n",
    "    final_predictions = []\n",
    "    \n",
    "    predictions_series = pd.Series(predictions)\n",
    "    \n",
    "    final_predictions = predictions_series.map(lambda x: 1 if x > threshold else 0)\n",
    "    \n",
    "    return predictions, final_predictions, results, auc\n",
    " \n",
    "    \n",
    "def def_optimal_threshold(y, X, results, fpr, tpr, thresholds):\n",
    "    ####################################\n",
    "    # Optimal threshold : donde tpr es alta y fpr es baja\n",
    "    # tpr - (1-fpr) es cero o cerca de cero --> optimal cut off point\n",
    "    ####################################\n",
    "\n",
    "    i = np.arange(len(tpr)) # index for df\n",
    "    roc = pd.DataFrame({'fpr' : pd.Series(fpr, index=i),'tpr' : pd.Series(tpr, index = i), '1-fpr' : pd.Series(1-fpr, index = i), 'tf' : pd.Series(tpr - (1-fpr), index = i), 'thresholds' : pd.Series(thresholds, index = i)})\n",
    "    roc.iloc[(roc.tf-0).abs().argsort()[:1]]\n",
    "    optimal_tpr_list = roc.iloc[:,1].tolist()\n",
    "    optimal_fpr_list = roc.iloc[:,0].tolist()\n",
    "        \n",
    "    optimal = roc.iloc[(roc.tf-0).abs().argsort()[:1]]\n",
    "    optimal_threshold = optimal['thresholds']\n",
    "    optimal_tpr = optimal['tpr']\n",
    "    optimal_fpr = optimal['1-fpr']\n",
    "        \n",
    "    return optimal_tpr_list, optimal_tpr, optimal_fpr_list, optimal_fpr, optimal_threshold\n",
    "   \n",
    "    \n",
    "def curva_roc(X, y, results, fpr, tpr):\n",
    "    auc = roc_auc_score(y, results.predict(X))\n",
    "    \n",
    "    plt.plot(fpr,tpr)\n",
    "    plt.ylabel('True Positive Rate: Sensibilidad')\n",
    "    plt.xlabel('False Positive Rate: 1-Especificidad')\n",
    "    plt.show()\n",
    "    return auc\n",
    "    \n",
    "\n",
    "def accuracy(pred_table):\n",
    "    tp, fp, fn, tn = map(float, pred_table.flatten())\n",
    "    acc = (tp + tn) / (tp + tn + fp + fn)\n",
    "    return acc"
   ]
  },
  {
   "cell_type": "code",
   "execution_count": 739,
   "id": "4e0d30e6",
   "metadata": {},
   "outputs": [
    {
     "name": "stdout",
     "output_type": "stream",
     "text": [
      "Optimization terminated successfully.\n",
      "         Current function value: 0.441073\n",
      "         Iterations 6\n",
      "                          Results: Logit\n",
      "==================================================================\n",
      "Model:               Logit            Pseudo R-squared: 0.341     \n",
      "Dependent Variable:  Intencion_volver AIC:              644.0878  \n",
      "Date:                2022-02-19 17:57 BIC:              680.6325  \n",
      "No. Observations:    712              Log-Likelihood:   -314.04   \n",
      "Df Model:            7                LL-Null:          -476.73   \n",
      "Df Residuals:        704              LLR p-value:      2.2810e-66\n",
      "Converged:           1.0000           Scale:            1.0000    \n",
      "No. Iterations:      6.0000                                       \n",
      "------------------------------------------------------------------\n",
      "                    Coef.  Std.Err.    z    P>|z|   [0.025  0.975]\n",
      "------------------------------------------------------------------\n",
      "Edad               -0.0379   0.0088 -4.3105 0.0000 -0.0551 -0.0207\n",
      "Acompaniado_amigos -0.4839   0.1306 -3.7064 0.0002 -0.7397 -0.2280\n",
      "Producto_total_log  0.4317   0.1715  2.5178 0.0118  0.0957  0.7677\n",
      "Sexo_female         2.5070   0.2173 11.5346 0.0000  2.0810  2.9329\n",
      "Punto_Compra_S     -0.4633   0.2280 -2.0317 0.0422 -0.9103 -0.0164\n",
      "Segmento_cliente_1  0.2795   0.7337  0.3810 0.7032 -1.1585  1.7175\n",
      "Segmento_cliente_2 -0.5350   0.5781 -0.9255 0.3547 -1.6680  0.5980\n",
      "Segmento_cliente_3 -1.5593   0.4785 -3.2584 0.0011 -2.4972 -0.6213\n",
      "==================================================================\n",
      "\n",
      "Punto de corte optimo de la curva ROC: 0.359 \n",
      "\n",
      "Matriz de confusión sobre el test:\n",
      "[[94. 22.]\n",
      " [13. 50.]] \n",
      "\n",
      "Accuracy:  0.781\n",
      "Sensibilidad:  0.81\n",
      "Especificidad:  0.81\n"
     ]
    },
    {
     "data": {
      "image/png": "[encoded data removed]",
      "text/plain": [
       "<Figure size 432x288 with 1 Axes>"
      ]
     },
     "metadata": {
      "needs_background": "light"
     },
     "output_type": "display_data"
    },
    {
     "name": "stdout",
     "output_type": "stream",
     "text": [
      "AUC:  0.848\n"
     ]
    }
   ],
   "source": [
    "predictions, predictions2, modelo, auc = reg_logistica(X_train, y_train, X_test, y_test)"
   ]
  },
  {
   "cell_type": "markdown",
   "id": "9f014afe",
   "metadata": {},
   "source": [
    "## Random Forest\n",
    "\n",
    "En el random forest tenemos que obtener los parámetros optimos a utilizar."
   ]
  },
  {
   "cell_type": "code",
   "execution_count": 740,
   "id": "0ae38fe4",
   "metadata": {},
   "outputs": [
    {
     "name": "stdout",
     "output_type": "stream",
     "text": [
      "Fitting 3 folds for each of 18 candidates, totalling 54 fits\n"
     ]
    },
    {
     "data": {
      "text/plain": [
       "RandomizedSearchCV(cv=3, estimator=RandomForestClassifier(), n_iter=100,\n",
       "                   n_jobs=-1,\n",
       "                   param_distributions={'bootstrap': [True, False],\n",
       "                                        'min_samples_leaf': [1, 2, 5, 10, 20,\n",
       "                                                             30, 50, 70, 100],\n",
       "                                        'n_estimators': [100]},\n",
       "                   random_state=42, verbose=2)"
      ]
     },
     "execution_count": 740,
     "metadata": {},
     "output_type": "execute_result"
    }
   ],
   "source": [
    "# Creamos un grid de posibles parámetros\n",
    "\n",
    "random_grid = {'n_estimators': [100],\n",
    "               'min_samples_leaf': [1,2,5,10,20,30,50,70,100],\n",
    "               'bootstrap': [True, False]}\n",
    "\n",
    "# Creamos un modelo de base\n",
    "rf = RandomForestClassifier()\n",
    "\n",
    "rf_random = RandomizedSearchCV(estimator = rf, param_distributions = random_grid, \n",
    "                               n_iter = 100, cv = 3, verbose=2, random_state=42, n_jobs = -1)\n",
    "\n",
    "rf_random.fit(X_train, y_train)"
   ]
  },
  {
   "cell_type": "code",
   "execution_count": 741,
   "id": "3421c311",
   "metadata": {},
   "outputs": [
    {
     "data": {
      "text/plain": [
       "{'n_estimators': 100, 'min_samples_leaf': 2, 'bootstrap': True}"
      ]
     },
     "execution_count": 741,
     "metadata": {},
     "output_type": "execute_result"
    }
   ],
   "source": [
    "rf_random.best_params_"
   ]
  },
  {
   "cell_type": "code",
   "execution_count": 742,
   "id": "6643319f",
   "metadata": {},
   "outputs": [
    {
     "name": "stdout",
     "output_type": "stream",
     "text": [
      "Accuracy:  0.844\n",
      "[[104  12]\n",
      " [ 16  47]]\n"
     ]
    }
   ],
   "source": [
    "model_rf = RandomForestClassifier(random_state=42, min_samples_leaf=2, n_estimators=100, bootstrap=True)\n",
    "    \n",
    "#entrenamiento modelo\n",
    "model_rf.fit(X_train, y_train)\n",
    "    \n",
    "# predicciones y evaluación modelo \n",
    "predictions_rf = model_rf.predict(X_test)\n",
    "matrix_rf = confusion_matrix(y_test,predictions_rf)\n",
    "accuracy_rf = accuracy_score(y_test, predictions_rf)\n",
    "    \n",
    "print(\"Accuracy: \", round(accuracy_rf,3))\n",
    "print(matrix_rf)"
   ]
  },
  {
   "cell_type": "code",
   "execution_count": 743,
   "id": "52e47700",
   "metadata": {},
   "outputs": [
    {
     "name": "stdout",
     "output_type": "stream",
     "text": [
      "Área bajo la curva: 0.878\n"
     ]
    }
   ],
   "source": [
    "# Sacamos el AUC\n",
    "predictions_rf_prob = model_rf.predict_proba(X_test)[:,1]\n",
    "auc = roc_auc_score(y_test, predictions_rf_prob)\n",
    "print('Área bajo la curva:', round(auc,3))"
   ]
  },
  {
   "cell_type": "markdown",
   "id": "27c5a105",
   "metadata": {},
   "source": [
    "Dependiendo de la semilla aleatoria pueden variar un poco los resultados pero en general la precisión del random forest es ligeramente mejor que la de regresión logística, lo mismo ocurre con el AUC.\n",
    "\n",
    "Si buscamos maximizar la precisión entonces el random forest es mejor modelo que la regresión logística.\n",
    "Por otro lado, puede que prefiramos usar regresión logística en caso de que queramos un modelo más sencillo de entender.\n",
    "\n",
    "A partir de las predicciones dadas por el modelo, el equipo de marketing ya puede tomar una decisión sobre a que clientes aplicarles una campaña de marketing, basta con seleccionar el punto de corte adecuado para dicha campaña en función de los costes para conseguir el máximo EV."
   ]
  },
  {
   "cell_type": "code",
   "execution_count": null,
   "id": "aad7af68",
   "metadata": {},
   "outputs": [],
   "source": []
  }
 ],
 "metadata": {
  "kernelspec": {
   "display_name": "Python 3 (ipykernel)",
   "language": "python",
   "name": "python3"
  },
  "language_info": {
   "codemirror_mode": {
    "name": "ipython",
    "version": 3
   },
   "file_extension": ".py",
   "mimetype": "text/x-python",
   "name": "python",
   "nbconvert_exporter": "python",
   "pygments_lexer": "ipython3",
   "version": "3.8.8"
  }
 },
 "nbformat": 4,
 "nbformat_minor": 5
}
